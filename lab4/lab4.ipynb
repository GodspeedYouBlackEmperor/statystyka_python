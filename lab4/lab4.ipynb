{
 "cells": [
  {
   "cell_type": "code",
   "execution_count": 111,
   "metadata": {},
   "outputs": [
    {
     "data": {
      "text/plain": [
       "'\\nPrawo\\nMomenty centralne\\n\\n\\n'"
      ]
     },
     "execution_count": 111,
     "metadata": {},
     "output_type": "execute_result"
    }
   ],
   "source": [
    "'''\n",
    "Lewo \n",
    "Momenty zwykłe\n",
    "Teoretyczne\n",
    "\n",
    "'''\n",
    "'''\n",
    "Prawo\n",
    "Momenty centralne\n",
    "\n",
    "\n",
    "'''"
   ]
  },
  {
   "cell_type": "code",
   "execution_count": 160,
   "metadata": {},
   "outputs": [
    {
     "data": {
      "text/plain": [
       "<BarContainer object of 7 artists>"
      ]
     },
     "execution_count": 160,
     "metadata": {},
     "output_type": "execute_result"
    },
    {
     "data": {
      "image/png": "[encoded data removed]",
      "text/plain": [
       "<Figure size 432x288 with 4 Axes>"
      ]
     },
     "metadata": {
      "needs_background": "light"
     },
     "output_type": "display_data"
    }
   ],
   "source": [
    "import numpy as np\n",
    "import scipy.stats as ss\n",
    "import matplotlib.pyplot as plt\n",
    "import scipy.stats\n",
    "\n",
    "data = np.genfromtxt('data.csv', delimiter=\";\",dtype=np.int32)\n",
    "# Uwaga implementacujna:\n",
    "# Pirewsza kolumna to nie zestawy danych, a środki klas\n",
    "\n",
    "\n",
    "data_index = data[:,0]\n",
    "data_index = data_index.astype(np.string_)\n",
    "\n",
    "#plt.subplots(2,2)\n",
    "plt.subplot(1,4,1).bar(data[:,0], data[:,1], width=9)\n",
    "plt.subplot(1,4,2).bar(data[:,0], data[:,2], width=9)\n",
    "plt.subplot(1,4,3).bar(data[:,0], data[:,3], width=9)\n",
    "plt.subplot(1,4,4).bar(data[:,0], data[:,4], width=9)\n",
    "#plt.xticks(np.arange(20))\n",
    "#plt.plot()\n",
    "\n"
   ]
  },
  {
   "cell_type": "code",
   "execution_count": null,
   "metadata": {},
   "outputs": [
    {
     "name": "stdout",
     "output_type": "stream",
     "text": [
      "[[    0.   144.     0. 43200.]\n",
      " [    0.   144.     0. 81600.]\n",
      " [    0.   144.  1200. 57600.]\n",
      " [    0.   144. -1200. 57600.]]\n",
      "[17.27095001 22.67786838 21.59364986 21.59364986]\n",
      "[ 0.          0.          0.11917992 -0.11917992]\n",
      "[0.4855331  0.30851852 0.26492215 0.26492215]\n",
      "[ 80.59776672 105.83005244 100.77036601 100.77036601]\n"
     ]
    }
   ],
   "source": [
    "# Średnie z danych:\n",
    "means = np.zeros(4)\n",
    "for i in range(len(means)):\n",
    "    means[i] = np.mean(data[:, i+1])\n",
    "\n",
    "#print(means)\n",
    "\n",
    "momentums = np.zeros((4,4))\n",
    "\n",
    "def momentums(data): #Otrzymuje tabelę danych, zwraca tablicę momentów 4x4\n",
    "    means = np.zeros(4)\n",
    "    for i in range(len(means)):\n",
    "        for j in range(len(data)):\n",
    "            means[i] += data[j,0]*data[j,i+1]\n",
    "    for i in range(len(means)):\n",
    "        means[i] = means[i]/150\n",
    "    # momenty:\n",
    "    momentums = np.zeros((4,4))\n",
    "    for i in range(len(means)):\n",
    "        for j in range(len(data)):\n",
    "            #print(f'({data[j,0]} - {means[i]}) * {data[j, i+1]}')\n",
    "            momentums[i, 0] += (pow((data[j,0] - means[i]), 1) * data[j, i+1])\n",
    "            momentums[i, 1] += (pow((data[j,0] - means[i]), 2) * data[j, i+1])\n",
    "            momentums[i, 2] += (pow((data[j,0] - means[i]), 3) * data[j, i+1])\n",
    "            momentums[i, 3] += (pow((data[j,0] - means[i]), 4) * data[j, i+1])\n",
    "    \n",
    "    for i in range(len(momentums)):\n",
    "        momentums[i] = momentums[i]/150\n",
    "    \n",
    "    return momentums\n",
    "\n",
    "# Otrzymanie momentów:\n",
    "momentums = momentums(data)\n",
    "print(momentums)\n",
    "\n",
    "dev = np.zeros(4)\n",
    "\n",
    "for i in range(len(dev)):\n",
    "    dev[i] = scipy.stats.tstd(data[:, i+1])\n",
    "\n",
    "print(dev)\n",
    "\n",
    "# Współczynnik skośności\n",
    "\n",
    "skew = np.zeros(4)\n",
    "\n",
    "for i in range(len(skew)):\n",
    "    skew[i] = momentums[i, 2] / dev[i]**3\n",
    "\n",
    "print(skew)\n",
    "\n",
    "# Współczynnik koncentracji skupienia:\n",
    "\n",
    "coef_cont = np.zeros(4)\n",
    "\n",
    "for i in range(len(coef_cont)):\n",
    "    coef_cont[i] = momentums[i, 3] / dev[i]**4\n",
    "\n",
    "print(coef_cont)\n",
    "\n",
    "# Współczynnik zmiany:\n",
    "\n",
    "change_coef = np.zeros(4)\n",
    "\n",
    "for i in range(len(change_coef)):\n",
    "    change_coef[i] = (dev[i] / means[i])*100\n",
    "\n",
    "print(change_coef)"
   ]
  }
 ],
 "metadata": {
  "interpreter": {
   "hash": "31f2aee4e71d21fbe5cf8b01ff0e069b9275f58929596ceb00d14d90e3e16cd6"
  },
  "kernelspec": {
   "display_name": "Python 3.9.5 64-bit",
   "language": "python",
   "name": "python3"
  },
  "language_info": {
   "codemirror_mode": {
    "name": "ipython",
    "version": 3
   },
   "file_extension": ".py",
   "mimetype": "text/x-python",
   "name": "python",
   "nbconvert_exporter": "python",
   "pygments_lexer": "ipython3",
   "version": "3.9.5"
  },
  "orig_nbformat": 4
 },
 "nbformat": 4,
 "nbformat_minor": 2
}
