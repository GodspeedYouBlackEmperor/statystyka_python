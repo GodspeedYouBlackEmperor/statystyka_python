{
 "cells": [
  {
   "cell_type": "code",
   "execution_count": 1,
   "metadata": {},
   "outputs": [],
   "source": [
    "import numpy as np\n",
    "import matplotlib.pyplot as plt\n",
    "from scipy import linalg as la"
   ]
  },
  {
   "cell_type": "code",
   "execution_count": 9,
   "metadata": {},
   "outputs": [
    {
     "name": "stdout",
     "output_type": "stream",
     "text": [
      "total 192\r\n",
      "drwxrwxr-x 2 krzysztof krzysztof  4096 paź 13 11:25  .ipynb_checkpoints\r\n",
      "-rw-rw-r-- 1 krzysztof krzysztof 93298 paź 13 11:47 'kwartet Anscombea.ipynb'\r\n",
      "-rw-rw-r-- 1 krzysztof krzysztof   347 paź 12 18:29  KwartetAnscombe.csv\r\n",
      "-rw-rw-r-- 1 krzysztof krzysztof 91623 paź 12 20:59  Untitled.ipynb\r\n"
     ]
    }
   ],
   "source": [
    "!ls -All"
   ]
  },
  {
   "cell_type": "code",
   "execution_count": 11,
   "metadata": {},
   "outputs": [
    {
     "data": {
      "text/plain": [
       "['kwartet Anscombea.ipynb', 'KwartetAnscombe.csv', 'Untitled.ipynb']"
      ]
     },
     "execution_count": 11,
     "metadata": {},
     "output_type": "execute_result"
    }
   ],
   "source": [
    "x=!ls\n",
    "x"
   ]
  },
  {
   "cell_type": "code",
   "execution_count": 1,
   "metadata": {},
   "outputs": [
    {
     "name": "stdout",
     "output_type": "stream",
     "text": [
      "os\t sys\t \n"
     ]
    }
   ],
   "source": [
    "%who"
   ]
  },
  {
   "cell_type": "code",
   "execution_count": 13,
   "metadata": {},
   "outputs": [
    {
     "name": "stderr",
     "output_type": "stream",
     "text": [
      "ERROR:root:No traceback has been produced, nothing to debug.\n"
     ]
    }
   ],
   "source": [
    "%debug"
   ]
  },
  {
   "cell_type": "code",
   "execution_count": null,
   "metadata": {},
   "outputs": [],
   "source": [
    "%timeit fib(100)"
   ]
  },
  {
   "cell_type": "code",
   "execution_count": 2,
   "metadata": {},
   "outputs": [
    {
     "name": "stdout",
     "output_type": "stream",
     "text": [
      "[[  nan   nan   nan   nan   nan   nan   nan   nan]\n",
      " [10.    8.04 10.    9.14 10.    7.46  8.    6.58]\n",
      " [ 8.    6.95  8.    8.14  8.    6.77  8.    5.76]\n",
      " [13.    7.58 13.    8.74 13.   12.74  8.    7.71]\n",
      " [ 9.    8.81  9.    8.77  9.    7.11  8.    8.84]\n",
      " [11.    8.33 11.    9.26 11.    7.81  8.    8.47]\n",
      " [14.    9.96 14.    8.1  14.    8.84  8.    7.04]\n",
      " [ 6.    7.24  6.    6.13  6.    6.08  8.    5.25]\n",
      " [ 4.    4.26  4.    3.1   4.    5.39 19.   12.5 ]\n",
      " [12.   10.84 12.    9.13 12.    8.15  8.    5.56]\n",
      " [ 7.    4.82  7.    7.26  7.    6.42  8.    7.91]\n",
      " [ 5.    5.68  5.    4.74  5.    5.73  8.    6.8 ]]\n"
     ]
    }
   ],
   "source": [
    "data = np.genfromtxt('KwartetAnscombe.csv', delimiter=',')\n",
    "print(data)\n",
    "x1=data[1:,0]\n",
    "y1=data[1:,1]\n",
    "\n",
    "x2=data[1:,0+2]\n",
    "y2=data[1:,1+2]\n",
    "\n",
    "x3=data[1:,0+4]\n",
    "y3=data[1:,1+4]\n",
    "\n",
    "x4=data[1:,0+6]\n",
    "y4=data[1:,1+6]"
   ]
  },
  {
   "cell_type": "code",
   "execution_count": 8,
   "metadata": {},
   "outputs": [
    {
     "name": "stdout",
     "output_type": "stream",
     "text": [
      "Srednie\n",
      "7.500909090909093\n",
      "7.50090909090909\n",
      "7.5\n",
      "7.492727272727273\n",
      "\n",
      "\n",
      "\n",
      "\n",
      "Wariancje\n",
      "3.7520628099173554\n",
      "3.752390082644628\n",
      "3.747836363636364\n",
      "3.759074380165289\n"
     ]
    }
   ],
   "source": [
    "print (\"Srednie\")\n",
    "print (np.mean(y1))\n",
    "print (np.mean(y2))\n",
    "print (np.mean(y3))\n",
    "print (np.mean(y4))\n",
    "print ('\\n'*3)\n",
    "print (\"Wariancje\")\n",
    "print (np.var(y1))\n",
    "print (np.var(y2))\n",
    "print (np.var(y3))\n",
    "print (np.var(y4))"
   ]
  },
  {
   "cell_type": "code",
   "execution_count": 76,
   "metadata": {},
   "outputs": [
    {
     "name": "stdout",
     "output_type": "stream",
     "text": [
      "[ 4.          4.11111111  4.22222222  4.33333333  4.44444444  4.55555556\n",
      "  4.66666667  4.77777778  4.88888889  5.          5.11111111  5.22222222\n",
      "  5.33333333  5.44444444  5.55555556  5.66666667  5.77777778  5.88888889\n",
      "  6.          6.11111111  6.22222222  6.33333333  6.44444444  6.55555556\n",
      "  6.66666667  6.77777778  6.88888889  7.          7.11111111  7.22222222\n",
      "  7.33333333  7.44444444  7.55555556  7.66666667  7.77777778  7.88888889\n",
      "  8.          8.11111111  8.22222222  8.33333333  8.44444444  8.55555556\n",
      "  8.66666667  8.77777778  8.88888889  9.          9.11111111  9.22222222\n",
      "  9.33333333  9.44444444  9.55555556  9.66666667  9.77777778  9.88888889\n",
      " 10.         10.11111111 10.22222222 10.33333333 10.44444444 10.55555556\n",
      " 10.66666667 10.77777778 10.88888889 11.         11.11111111 11.22222222\n",
      " 11.33333333 11.44444444 11.55555556 11.66666667 11.77777778 11.88888889\n",
      " 12.         12.11111111 12.22222222 12.33333333 12.44444444 12.55555556\n",
      " 12.66666667 12.77777778 12.88888889 13.         13.11111111 13.22222222\n",
      " 13.33333333 13.44444444 13.55555556 13.66666667 13.77777778 13.88888889\n",
      " 14.         14.11111111 14.22222222 14.33333333 14.44444444 14.55555556\n",
      " 14.66666667 14.77777778 14.88888889 15.        ]\n"
     ]
    }
   ],
   "source": [
    "x=np.linspace(4,15,100)\n",
    "print(x)"
   ]
  },
  {
   "cell_type": "code",
   "execution_count": 117,
   "metadata": {},
   "outputs": [
    {
     "data": {
      "text/plain": [
       "array([[  nan,   nan,   nan,   nan,   nan,   nan,   nan,   nan],\n",
       "       [10.  ,  8.04, 10.  ,  9.14, 10.  ,  7.46,  8.  ,  6.58],\n",
       "       [ 8.  ,  6.95,  8.  ,  8.14,  8.  ,  6.77,  8.  ,  5.76],\n",
       "       [13.  ,  7.58, 13.  ,  8.74, 13.  , 12.74,  8.  ,  7.71],\n",
       "       [ 9.  ,  8.81,  9.  ,  8.77,  9.  ,  7.11,  8.  ,  8.84],\n",
       "       [11.  ,  8.33, 11.  ,  9.26, 11.  ,  7.81,  8.  ,  8.47],\n",
       "       [14.  ,  9.96, 14.  ,  8.1 , 14.  ,  8.84,  8.  ,  7.04],\n",
       "       [ 6.  ,  7.24,  6.  ,  6.13,  6.  ,  6.08,  8.  ,  5.25],\n",
       "       [ 4.  ,  4.26,  4.  ,  3.1 ,  4.  ,  5.39, 19.  , 12.5 ],\n",
       "       [12.  , 10.84, 12.  ,  9.13, 12.  ,  8.15,  8.  ,  5.56],\n",
       "       [ 7.  ,  4.82,  7.  ,  7.26,  7.  ,  6.42,  8.  ,  7.91],\n",
       "       [ 5.  ,  5.68,  5.  ,  4.74,  5.  ,  5.73,  8.  ,  6.8 ]])"
      ]
     },
     "execution_count": 117,
     "metadata": {},
     "output_type": "execute_result"
    }
   ],
   "source": [
    "data"
   ]
  },
  {
   "cell_type": "code",
   "execution_count": 79,
   "metadata": {},
   "outputs": [
    {
     "name": "stdout",
     "output_type": "stream",
     "text": [
      "[10.  8. 13.  9. 11. 14.  6.  4. 12.  7.  5.]\n",
      "[ 8.04  6.95  7.58  8.81  8.33  9.96  7.24  4.26 10.84  4.82  5.68]\n"
     ]
    }
   ],
   "source": [
    "print (x1)\n",
    "print (y1)"
   ]
  },
  {
   "cell_type": "code",
   "execution_count": 111,
   "metadata": {
    "scrolled": true
   },
   "outputs": [
    {
     "data": {
      "image/png": "[encoded data removed]",
      "text/plain": [
       "<matplotlib.figure.Figure at 0x7f5cdaf52f28>"
      ]
     },
     "metadata": {
      "needs_background": "light"
     },
     "output_type": "display_data"
    },
    {
     "data": {
      "text/plain": [
       "<matplotlib.legend.Legend at 0x7f5cdaf21dd8>"
      ]
     },
     "execution_count": 111,
     "metadata": {},
     "output_type": "execute_result"
    },
    {
     "data": {
      "image/png": "[encoded data removed]",
      "text/plain": [
       "<matplotlib.figure.Figure at 0x7f5cdb7d6f60>"
      ]
     },
     "metadata": {
      "needs_background": "light"
     },
     "output_type": "display_data"
    }
   ],
   "source": [
    "plt.plot(x1,y1,'go',label='$x_1$')\n",
    "plt.xlabel ('x')\n",
    "plt.legend()\n",
    "plt.show()\n",
    "\n",
    "plt.plot(x2,y2,'go',label='$x_1$')\n",
    "plt.xlabel ('x')\n",
    "plt.legend()"
   ]
  },
  {
   "cell_type": "code",
   "execution_count": 81,
   "metadata": {},
   "outputs": [
    {
     "data": {
      "text/plain": [
       "array([[ 1., 10.],\n",
       "       [ 1.,  8.],\n",
       "       [ 1., 13.],\n",
       "       [ 1.,  9.],\n",
       "       [ 1., 11.],\n",
       "       [ 1., 14.],\n",
       "       [ 1.,  6.],\n",
       "       [ 1.,  4.],\n",
       "       [ 1., 12.],\n",
       "       [ 1.,  7.],\n",
       "       [ 1.,  5.]])"
      ]
     },
     "execution_count": 81,
     "metadata": {},
     "output_type": "execute_result"
    }
   ],
   "source": [
    "A=np.vstack([x1**0, x1**1]).T\n",
    "A"
   ]
  },
  {
   "cell_type": "code",
   "execution_count": 82,
   "metadata": {},
   "outputs": [],
   "source": [
    "sol, r, rank, sv = la.lstsq (A,y1)\n",
    "y_fit = sol[0] + sol[1]*x"
   ]
  },
  {
   "cell_type": "code",
   "execution_count": 116,
   "metadata": {},
   "outputs": [
    {
     "data": {
      "text/plain": [
       "[<matplotlib.lines.Line2D at 0x7f5cdac6e4e0>]"
      ]
     },
     "execution_count": 116,
     "metadata": {},
     "output_type": "execute_result"
    },
    {
     "data": {
      "image/png": "[encoded data removed]",
      "text/plain": [
       "<matplotlib.figure.Figure at 0x7f5cdac99160>"
      ]
     },
     "metadata": {
      "needs_background": "light"
     },
     "output_type": "display_data"
    }
   ],
   "source": [
    "A=np.vstack([x1**0, x1**1]).T\n",
    "sol, r, rank, sv = la.lstsq (A,y1)\n",
    "y_fit = sol[0] + sol[1]*x\n",
    "fig,ax = plt.subplots(figsize=(12,4))\n",
    "ax.plot (x1,y1,'o',label='$x_1')\n",
    "ax.plot (x,y_fit,'k--')"
   ]
  },
  {
   "cell_type": "code",
   "execution_count": 108,
   "metadata": {
    "scrolled": true
   },
   "outputs": [
    {
     "data": {
      "text/plain": [
       "[<matplotlib.lines.Line2D at 0x7f5cdb241518>]"
      ]
     },
     "execution_count": 108,
     "metadata": {},
     "output_type": "execute_result"
    },
    {
     "data": {
      "image/png": "[encoded data removed]",
      "text/plain": [
       "<matplotlib.figure.Figure at 0x7f5cdb035518>"
      ]
     },
     "metadata": {
      "needs_background": "light"
     },
     "output_type": "display_data"
    }
   ],
   "source": [
    "plt.plot(x2,y2,'go',label='x2')"
   ]
  },
  {
   "cell_type": "code",
   "execution_count": 89,
   "metadata": {},
   "outputs": [
    {
     "data": {
      "text/plain": [
       "[<matplotlib.lines.Line2D at 0x7f5cdb498e10>]"
      ]
     },
     "execution_count": 89,
     "metadata": {},
     "output_type": "execute_result"
    },
    {
     "data": {
      "image/png": "[encoded data removed]",
      "text/plain": [
       "<matplotlib.figure.Figure at 0x7f5cdb3ed5f8>"
      ]
     },
     "metadata": {
      "needs_background": "light"
     },
     "output_type": "display_data"
    }
   ],
   "source": [
    "A=np.vstack([x2**0, x2**1]).T\n",
    "sol, r, rank, sv = la.lstsq (A,y2)\n",
    "y_fit = sol[0] + sol[1]*x\n",
    "fig,ax = plt.subplots(figsize=(12,4))\n",
    "ax.plot (x2,y2,'o',label='$x_1')\n",
    "ax.plot (x,y_fit)"
   ]
  },
  {
   "cell_type": "code",
   "execution_count": 30,
   "metadata": {
    "scrolled": true
   },
   "outputs": [
    {
     "data": {
      "text/plain": [
       "[<matplotlib.lines.Line2D at 0x7f5cead87b00>]"
      ]
     },
     "execution_count": 30,
     "metadata": {},
     "output_type": "execute_result"
    },
    {
     "data": {
      "image/png": "[encoded data removed]",
      "text/plain": [
       "<matplotlib.figure.Figure at 0x7f5ceae04048>"
      ]
     },
     "metadata": {
      "needs_background": "light"
     },
     "output_type": "display_data"
    }
   ],
   "source": [
    "plt.plot(x3,y3,'go')"
   ]
  },
  {
   "cell_type": "code",
   "execution_count": 99,
   "metadata": {},
   "outputs": [
    {
     "data": {
      "text/plain": [
       "[<matplotlib.lines.Line2D at 0x7f5cdb1aca58>]"
      ]
     },
     "execution_count": 99,
     "metadata": {},
     "output_type": "execute_result"
    },
    {
     "data": {
      "image/png": "[encoded data removed]",
      "text/plain": [
       "<matplotlib.figure.Figure at 0x7f5cdb1d7da0>"
      ]
     },
     "metadata": {
      "needs_background": "light"
     },
     "output_type": "display_data"
    }
   ],
   "source": [
    "A=np.vstack([x3**0, x3**1]).T\n",
    "sol, r, rank, sv = la.lstsq (A,y3)\n",
    "y_fit = sol[0] + sol[1]*x\n",
    "fig,ax = plt.subplots(figsize=(12,4))\n",
    "ax.plot (x3,y3,'o',label='$x_1')\n",
    "ax.plot (x,y_fit)"
   ]
  },
  {
   "cell_type": "code",
   "execution_count": 33,
   "metadata": {},
   "outputs": [
    {
     "data": {
      "text/plain": [
       "[<matplotlib.lines.Line2D at 0x7f5ceacf6320>]"
      ]
     },
     "execution_count": 33,
     "metadata": {},
     "output_type": "execute_result"
    },
    {
     "data": {
      "image/png": "[encoded data removed]",
      "text/plain": [
       "<matplotlib.figure.Figure at 0x7f5ceada92b0>"
      ]
     },
     "metadata": {
      "needs_background": "light"
     },
     "output_type": "display_data"
    }
   ],
   "source": [
    "plt.plot(x4,y4,'go')"
   ]
  },
  {
   "cell_type": "code",
   "execution_count": 102,
   "metadata": {},
   "outputs": [
    {
     "name": "stderr",
     "output_type": "stream",
     "text": [
      "/home/krzysztof/.local/lib/python3.6/site-packages/ipykernel_launcher.py:3: FutureWarning: `rcond` parameter will change to the default of machine precision times ``max(M, N)`` where M and N are the input matrix dimensions.\n",
      "To use the future default and silence this warning we advise to pass `rcond=None`, to keep using the old, explicitly pass `rcond=-1`.\n",
      "  This is separate from the ipykernel package so we can avoid doing imports until\n"
     ]
    },
    {
     "data": {
      "text/plain": [
       "[<matplotlib.lines.Line2D at 0x7f5cdb094470>]"
      ]
     },
     "execution_count": 102,
     "metadata": {},
     "output_type": "execute_result"
    },
    {
     "data": {
      "image/png": "[encoded data removed]",
      "text/plain": [
       "<matplotlib.figure.Figure at 0x7f5cdb1ac320>"
      ]
     },
     "metadata": {
      "needs_background": "light"
     },
     "output_type": "display_data"
    }
   ],
   "source": [
    "A=np.vstack([x4**0, x4**1]).T\n",
    "sol, r, rank, sv = la.lstsq (A,y4)\n",
    "y_fit = sol[0] + sol[1]*x\n",
    "fig,ax = plt.subplots(figsize=(12,4))\n",
    "ax.plot (x4,y4,'o',label='$x_1')\n",
    "ax.plot (x,y_fit)"
   ]
  },
  {
   "cell_type": "code",
   "execution_count": 96,
   "metadata": {},
   "outputs": [
    {
     "name": "stdout",
     "output_type": "stream",
     "text": [
      "2 13.769760000000002 [31.79312712  1.0941061 ]\n"
     ]
    }
   ],
   "source": [
    "print (rank, r, sv)"
   ]
  },
  {
   "cell_type": "code",
   "execution_count": 105,
   "metadata": {},
   "outputs": [
    {
     "name": "stdout",
     "output_type": "stream",
     "text": [
      "[2.98618182 0.50072727]\n",
      "[2.98618182 0.50072727]\n"
     ]
    },
    {
     "name": "stderr",
     "output_type": "stream",
     "text": [
      "/home/krzysztof/.local/lib/python3.6/site-packages/ipykernel_launcher.py:2: FutureWarning: `rcond` parameter will change to the default of machine precision times ``max(M, N)`` where M and N are the input matrix dimensions.\n",
      "To use the future default and silence this warning we advise to pass `rcond=None`, to keep using the old, explicitly pass `rcond=-1`.\n",
      "  \n"
     ]
    }
   ],
   "source": [
    "print (sol)\n",
    "sol2 = np.linalg.lstsq (A,y4)\n",
    "print (sol2[0])"
   ]
  },
  {
   "cell_type": "code",
   "execution_count": null,
   "metadata": {},
   "outputs": [],
   "source": []
  }
 ],
 "metadata": {
  "interpreter": {
   "hash": "404cc3ada02fe0162fc446d61bd19c97c4694fd6aade534950fa86161cee10cc"
  },
  "kernelspec": {
   "display_name": "Python 3.9.2 64-bit",
   "name": "python3"
  },
  "language_info": {
   "codemirror_mode": {
    "name": "ipython",
    "version": 3
   },
   "file_extension": ".py",
   "mimetype": "text/x-python",
   "name": "python",
   "nbconvert_exporter": "python",
   "pygments_lexer": "ipython3",
   "version": "3.9.2"
  }
 },
 "nbformat": 4,
 "nbformat_minor": 2
}
